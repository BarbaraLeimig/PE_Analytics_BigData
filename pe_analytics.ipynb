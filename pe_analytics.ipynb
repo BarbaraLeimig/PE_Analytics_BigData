{
 "cells": [
  {
   "cell_type": "markdown",
   "metadata": {},
   "source": [
    "### Justificativa\n",
    "justificar a escolha do dataset."
   ]
  },
  {
   "cell_type": "code",
   "execution_count": 1,
   "metadata": {},
   "outputs": [],
   "source": [
    "import pandas as pd"
   ]
  },
  {
   "cell_type": "markdown",
   "metadata": {},
   "source": [
    "Objetivos prrimários:\n",
    "* quantidade de registros;\n",
    "* variáveis disponíveis;\n",
    "* possíveis lacunas nos dados."
   ]
  },
  {
   "cell_type": "code",
   "execution_count": 6,
   "metadata": {},
   "outputs": [],
   "source": [
    "# FONTE: https://dadosabertos.tse.jus.br/dataset/resultados-2020/resource/977f5f4a-8d03-4b3d-aaa5-00001b996f02\n",
    "\n",
    "# LOAD dataset\n",
    "df = pd.read_csv('votacao_secao_2020_PE.csv', encoding='latin1', sep=\";\")"
   ]
  },
  {
   "cell_type": "code",
   "execution_count": 7,
   "metadata": {},
   "outputs": [
    {
     "data": {
      "text/html": [
       "<div>\n",
       "<style scoped>\n",
       "    .dataframe tbody tr th:only-of-type {\n",
       "        vertical-align: middle;\n",
       "    }\n",
       "\n",
       "    .dataframe tbody tr th {\n",
       "        vertical-align: top;\n",
       "    }\n",
       "\n",
       "    .dataframe thead th {\n",
       "        text-align: right;\n",
       "    }\n",
       "</style>\n",
       "<table border=\"1\" class=\"dataframe\">\n",
       "  <thead>\n",
       "    <tr style=\"text-align: right;\">\n",
       "      <th></th>\n",
       "      <th>DT_GERACAO</th>\n",
       "      <th>HH_GERACAO</th>\n",
       "      <th>ANO_ELEICAO</th>\n",
       "      <th>CD_TIPO_ELEICAO</th>\n",
       "      <th>NM_TIPO_ELEICAO</th>\n",
       "      <th>NR_TURNO</th>\n",
       "      <th>CD_ELEICAO</th>\n",
       "      <th>DS_ELEICAO</th>\n",
       "      <th>DT_ELEICAO</th>\n",
       "      <th>TP_ABRANGENCIA</th>\n",
       "      <th>...</th>\n",
       "      <th>NR_SECAO</th>\n",
       "      <th>CD_CARGO</th>\n",
       "      <th>DS_CARGO</th>\n",
       "      <th>NR_VOTAVEL</th>\n",
       "      <th>NM_VOTAVEL</th>\n",
       "      <th>QT_VOTOS</th>\n",
       "      <th>NR_LOCAL_VOTACAO</th>\n",
       "      <th>SQ_CANDIDATO</th>\n",
       "      <th>NM_LOCAL_VOTACAO</th>\n",
       "      <th>DS_LOCAL_VOTACAO_ENDERECO</th>\n",
       "    </tr>\n",
       "  </thead>\n",
       "  <tbody>\n",
       "    <tr>\n",
       "      <th>0</th>\n",
       "      <td>21/12/2020</td>\n",
       "      <td>16:55:14</td>\n",
       "      <td>2020</td>\n",
       "      <td>2</td>\n",
       "      <td>Eleição Ordinária</td>\n",
       "      <td>1</td>\n",
       "      <td>426</td>\n",
       "      <td>Eleições Municipais 2020</td>\n",
       "      <td>15/11/2020</td>\n",
       "      <td>M</td>\n",
       "      <td>...</td>\n",
       "      <td>62</td>\n",
       "      <td>13</td>\n",
       "      <td>Vereador</td>\n",
       "      <td>28999</td>\n",
       "      <td>FRANCISCO DE ASSIS SOUSA</td>\n",
       "      <td>1</td>\n",
       "      <td>1082</td>\n",
       "      <td>0</td>\n",
       "      <td>ESCOLA PARTICULAR IMACULADA CONCEIÇÃO</td>\n",
       "      <td>R. COMANDANTE SUPERIOR, N. 841, N. SRA. PENHA</td>\n",
       "    </tr>\n",
       "    <tr>\n",
       "      <th>1</th>\n",
       "      <td>21/12/2020</td>\n",
       "      <td>16:55:14</td>\n",
       "      <td>2020</td>\n",
       "      <td>2</td>\n",
       "      <td>Eleição Ordinária</td>\n",
       "      <td>1</td>\n",
       "      <td>426</td>\n",
       "      <td>Eleições Municipais 2020</td>\n",
       "      <td>15/11/2020</td>\n",
       "      <td>M</td>\n",
       "      <td>...</td>\n",
       "      <td>62</td>\n",
       "      <td>13</td>\n",
       "      <td>Vereador</td>\n",
       "      <td>40123</td>\n",
       "      <td>CICERO RAMON PEREIRA OLIVEIRA</td>\n",
       "      <td>2</td>\n",
       "      <td>1082</td>\n",
       "      <td>0</td>\n",
       "      <td>ESCOLA PARTICULAR IMACULADA CONCEIÇÃO</td>\n",
       "      <td>R. COMANDANTE SUPERIOR, N. 841, N. SRA. PENHA</td>\n",
       "    </tr>\n",
       "    <tr>\n",
       "      <th>2</th>\n",
       "      <td>21/12/2020</td>\n",
       "      <td>16:55:14</td>\n",
       "      <td>2020</td>\n",
       "      <td>2</td>\n",
       "      <td>Eleição Ordinária</td>\n",
       "      <td>1</td>\n",
       "      <td>426</td>\n",
       "      <td>Eleições Municipais 2020</td>\n",
       "      <td>15/11/2020</td>\n",
       "      <td>M</td>\n",
       "      <td>...</td>\n",
       "      <td>62</td>\n",
       "      <td>13</td>\n",
       "      <td>Vereador</td>\n",
       "      <td>40333</td>\n",
       "      <td>GILSON QUEIROZ RODRIGUES</td>\n",
       "      <td>2</td>\n",
       "      <td>1082</td>\n",
       "      <td>0</td>\n",
       "      <td>ESCOLA PARTICULAR IMACULADA CONCEIÇÃO</td>\n",
       "      <td>R. COMANDANTE SUPERIOR, N. 841, N. SRA. PENHA</td>\n",
       "    </tr>\n",
       "    <tr>\n",
       "      <th>3</th>\n",
       "      <td>21/12/2020</td>\n",
       "      <td>16:55:14</td>\n",
       "      <td>2020</td>\n",
       "      <td>2</td>\n",
       "      <td>Eleição Ordinária</td>\n",
       "      <td>1</td>\n",
       "      <td>426</td>\n",
       "      <td>Eleições Municipais 2020</td>\n",
       "      <td>15/11/2020</td>\n",
       "      <td>M</td>\n",
       "      <td>...</td>\n",
       "      <td>62</td>\n",
       "      <td>13</td>\n",
       "      <td>Vereador</td>\n",
       "      <td>40402</td>\n",
       "      <td>MARIA DO SOCORRO LIBERAL SIMÕES SILVA</td>\n",
       "      <td>1</td>\n",
       "      <td>1082</td>\n",
       "      <td>0</td>\n",
       "      <td>ESCOLA PARTICULAR IMACULADA CONCEIÇÃO</td>\n",
       "      <td>R. COMANDANTE SUPERIOR, N. 841, N. SRA. PENHA</td>\n",
       "    </tr>\n",
       "    <tr>\n",
       "      <th>4</th>\n",
       "      <td>21/12/2020</td>\n",
       "      <td>16:55:14</td>\n",
       "      <td>2020</td>\n",
       "      <td>2</td>\n",
       "      <td>Eleição Ordinária</td>\n",
       "      <td>1</td>\n",
       "      <td>426</td>\n",
       "      <td>Eleições Municipais 2020</td>\n",
       "      <td>15/11/2020</td>\n",
       "      <td>M</td>\n",
       "      <td>...</td>\n",
       "      <td>62</td>\n",
       "      <td>13</td>\n",
       "      <td>Vereador</td>\n",
       "      <td>51000</td>\n",
       "      <td>ANTÔNIO DIONÍZIO DA SILVA</td>\n",
       "      <td>3</td>\n",
       "      <td>1082</td>\n",
       "      <td>0</td>\n",
       "      <td>ESCOLA PARTICULAR IMACULADA CONCEIÇÃO</td>\n",
       "      <td>R. COMANDANTE SUPERIOR, N. 841, N. SRA. PENHA</td>\n",
       "    </tr>\n",
       "  </tbody>\n",
       "</table>\n",
       "<p>5 rows × 26 columns</p>\n",
       "</div>"
      ],
      "text/plain": [
       "   DT_GERACAO HH_GERACAO  ANO_ELEICAO  CD_TIPO_ELEICAO    NM_TIPO_ELEICAO  \\\n",
       "0  21/12/2020   16:55:14         2020                2  Eleição Ordinária   \n",
       "1  21/12/2020   16:55:14         2020                2  Eleição Ordinária   \n",
       "2  21/12/2020   16:55:14         2020                2  Eleição Ordinária   \n",
       "3  21/12/2020   16:55:14         2020                2  Eleição Ordinária   \n",
       "4  21/12/2020   16:55:14         2020                2  Eleição Ordinária   \n",
       "\n",
       "   NR_TURNO  CD_ELEICAO                DS_ELEICAO  DT_ELEICAO TP_ABRANGENCIA  \\\n",
       "0         1         426  Eleições Municipais 2020  15/11/2020              M   \n",
       "1         1         426  Eleições Municipais 2020  15/11/2020              M   \n",
       "2         1         426  Eleições Municipais 2020  15/11/2020              M   \n",
       "3         1         426  Eleições Municipais 2020  15/11/2020              M   \n",
       "4         1         426  Eleições Municipais 2020  15/11/2020              M   \n",
       "\n",
       "   ... NR_SECAO  CD_CARGO  DS_CARGO  NR_VOTAVEL  \\\n",
       "0  ...       62        13  Vereador       28999   \n",
       "1  ...       62        13  Vereador       40123   \n",
       "2  ...       62        13  Vereador       40333   \n",
       "3  ...       62        13  Vereador       40402   \n",
       "4  ...       62        13  Vereador       51000   \n",
       "\n",
       "                              NM_VOTAVEL  QT_VOTOS  NR_LOCAL_VOTACAO  \\\n",
       "0               FRANCISCO DE ASSIS SOUSA         1              1082   \n",
       "1          CICERO RAMON PEREIRA OLIVEIRA         2              1082   \n",
       "2               GILSON QUEIROZ RODRIGUES         2              1082   \n",
       "3  MARIA DO SOCORRO LIBERAL SIMÕES SILVA         1              1082   \n",
       "4              ANTÔNIO DIONÍZIO DA SILVA         3              1082   \n",
       "\n",
       "   SQ_CANDIDATO                       NM_LOCAL_VOTACAO  \\\n",
       "0             0  ESCOLA PARTICULAR IMACULADA CONCEIÇÃO   \n",
       "1             0  ESCOLA PARTICULAR IMACULADA CONCEIÇÃO   \n",
       "2             0  ESCOLA PARTICULAR IMACULADA CONCEIÇÃO   \n",
       "3             0  ESCOLA PARTICULAR IMACULADA CONCEIÇÃO   \n",
       "4             0  ESCOLA PARTICULAR IMACULADA CONCEIÇÃO   \n",
       "\n",
       "                       DS_LOCAL_VOTACAO_ENDERECO  \n",
       "0  R. COMANDANTE SUPERIOR, N. 841, N. SRA. PENHA  \n",
       "1  R. COMANDANTE SUPERIOR, N. 841, N. SRA. PENHA  \n",
       "2  R. COMANDANTE SUPERIOR, N. 841, N. SRA. PENHA  \n",
       "3  R. COMANDANTE SUPERIOR, N. 841, N. SRA. PENHA  \n",
       "4  R. COMANDANTE SUPERIOR, N. 841, N. SRA. PENHA  \n",
       "\n",
       "[5 rows x 26 columns]"
      ]
     },
     "execution_count": 7,
     "metadata": {},
     "output_type": "execute_result"
    }
   ],
   "source": [
    "df.head()"
   ]
  },
  {
   "cell_type": "code",
   "execution_count": 9,
   "metadata": {},
   "outputs": [
    {
     "name": "stdout",
     "output_type": "stream",
     "text": [
      "<class 'pandas.core.frame.DataFrame'>\n",
      "RangeIndex: 1610335 entries, 0 to 1610334\n",
      "Data columns (total 26 columns):\n",
      " #   Column                     Non-Null Count    Dtype \n",
      "---  ------                     --------------    ----- \n",
      " 0   DT_GERACAO                 1610335 non-null  object\n",
      " 1   HH_GERACAO                 1610335 non-null  object\n",
      " 2   ANO_ELEICAO                1610335 non-null  int64 \n",
      " 3   CD_TIPO_ELEICAO            1610335 non-null  int64 \n",
      " 4   NM_TIPO_ELEICAO            1610335 non-null  object\n",
      " 5   NR_TURNO                   1610335 non-null  int64 \n",
      " 6   CD_ELEICAO                 1610335 non-null  int64 \n",
      " 7   DS_ELEICAO                 1610335 non-null  object\n",
      " 8   DT_ELEICAO                 1610335 non-null  object\n",
      " 9   TP_ABRANGENCIA             1610335 non-null  object\n",
      " 10  SG_UF                      1610335 non-null  object\n",
      " 11  SG_UE                      1610335 non-null  int64 \n",
      " 12  NM_UE                      1610335 non-null  object\n",
      " 13  CD_MUNICIPIO               1610335 non-null  int64 \n",
      " 14  NM_MUNICIPIO               1610335 non-null  object\n",
      " 15  NR_ZONA                    1610335 non-null  int64 \n",
      " 16  NR_SECAO                   1610335 non-null  int64 \n",
      " 17  CD_CARGO                   1610335 non-null  int64 \n",
      " 18  DS_CARGO                   1610335 non-null  object\n",
      " 19  NR_VOTAVEL                 1610335 non-null  int64 \n",
      " 20  NM_VOTAVEL                 1610335 non-null  object\n",
      " 21  QT_VOTOS                   1610335 non-null  int64 \n",
      " 22  NR_LOCAL_VOTACAO           1610335 non-null  int64 \n",
      " 23  SQ_CANDIDATO               1610335 non-null  int64 \n",
      " 24  NM_LOCAL_VOTACAO           1610335 non-null  object\n",
      " 25  DS_LOCAL_VOTACAO_ENDERECO  1610335 non-null  object\n",
      "dtypes: int64(13), object(13)\n",
      "memory usage: 319.4+ MB\n"
     ]
    }
   ],
   "source": [
    "df.info()"
   ]
  },
  {
   "cell_type": "code",
   "execution_count": 10,
   "metadata": {},
   "outputs": [
    {
     "name": "stdout",
     "output_type": "stream",
     "text": [
      "Quantidade de registros: 1610335\n"
     ]
    }
   ],
   "source": [
    "num_registros = df.shape[0]\n",
    "print(\"Quantidade de registros:\", num_registros)"
   ]
  },
  {
   "cell_type": "code",
   "execution_count": 11,
   "metadata": {},
   "outputs": [
    {
     "name": "stdout",
     "output_type": "stream",
     "text": [
      "Variáveis disponíveis: ['DT_GERACAO', 'HH_GERACAO', 'ANO_ELEICAO', 'CD_TIPO_ELEICAO', 'NM_TIPO_ELEICAO', 'NR_TURNO', 'CD_ELEICAO', 'DS_ELEICAO', 'DT_ELEICAO', 'TP_ABRANGENCIA', 'SG_UF', 'SG_UE', 'NM_UE', 'CD_MUNICIPIO', 'NM_MUNICIPIO', 'NR_ZONA', 'NR_SECAO', 'CD_CARGO', 'DS_CARGO', 'NR_VOTAVEL', 'NM_VOTAVEL', 'QT_VOTOS', 'NR_LOCAL_VOTACAO', 'SQ_CANDIDATO', 'NM_LOCAL_VOTACAO', 'DS_LOCAL_VOTACAO_ENDERECO']\n"
     ]
    }
   ],
   "source": [
    "variaveis_disponiveis = df.columns.tolist()\n",
    "print(\"Variáveis disponíveis:\", variaveis_disponiveis)"
   ]
  },
  {
   "cell_type": "code",
   "execution_count": 14,
   "metadata": {},
   "outputs": [
    {
     "name": "stdout",
     "output_type": "stream",
     "text": [
      "Cargos:  ['Vereador' 'Prefeito']\n"
     ]
    }
   ],
   "source": [
    "votos_totais = df['DS_CARGO'].unique()\n",
    "print(\"Cargos: \", votos_totais)"
   ]
  },
  {
   "cell_type": "code",
   "execution_count": 15,
   "metadata": {},
   "outputs": [
    {
     "name": "stdout",
     "output_type": "stream",
     "text": [
      "Número de valores nulos em cada coluna:  DT_GERACAO                   0\n",
      "HH_GERACAO                   0\n",
      "ANO_ELEICAO                  0\n",
      "CD_TIPO_ELEICAO              0\n",
      "NM_TIPO_ELEICAO              0\n",
      "NR_TURNO                     0\n",
      "CD_ELEICAO                   0\n",
      "DS_ELEICAO                   0\n",
      "DT_ELEICAO                   0\n",
      "TP_ABRANGENCIA               0\n",
      "SG_UF                        0\n",
      "SG_UE                        0\n",
      "NM_UE                        0\n",
      "CD_MUNICIPIO                 0\n",
      "NM_MUNICIPIO                 0\n",
      "NR_ZONA                      0\n",
      "NR_SECAO                     0\n",
      "CD_CARGO                     0\n",
      "DS_CARGO                     0\n",
      "NR_VOTAVEL                   0\n",
      "NM_VOTAVEL                   0\n",
      "QT_VOTOS                     0\n",
      "NR_LOCAL_VOTACAO             0\n",
      "SQ_CANDIDATO                 0\n",
      "NM_LOCAL_VOTACAO             0\n",
      "DS_LOCAL_VOTACAO_ENDERECO    0\n",
      "dtype: int64\n"
     ]
    }
   ],
   "source": [
    "dados_nulos = df.isnull()\n",
    "contagem_nulos = dados_nulos.sum()\n",
    "print(\"Número de valores nulos em cada coluna: \", contagem_nulos)"
   ]
  },
  {
   "cell_type": "code",
   "execution_count": 16,
   "metadata": {},
   "outputs": [
    {
     "name": "stdout",
     "output_type": "stream",
     "text": [
      "Número de valores faltantes em cada coluna:  DT_GERACAO                   0\n",
      "HH_GERACAO                   0\n",
      "ANO_ELEICAO                  0\n",
      "CD_TIPO_ELEICAO              0\n",
      "NM_TIPO_ELEICAO              0\n",
      "NR_TURNO                     0\n",
      "CD_ELEICAO                   0\n",
      "DS_ELEICAO                   0\n",
      "DT_ELEICAO                   0\n",
      "TP_ABRANGENCIA               0\n",
      "SG_UF                        0\n",
      "SG_UE                        0\n",
      "NM_UE                        0\n",
      "CD_MUNICIPIO                 0\n",
      "NM_MUNICIPIO                 0\n",
      "NR_ZONA                      0\n",
      "NR_SECAO                     0\n",
      "CD_CARGO                     0\n",
      "DS_CARGO                     0\n",
      "NR_VOTAVEL                   0\n",
      "NM_VOTAVEL                   0\n",
      "QT_VOTOS                     0\n",
      "NR_LOCAL_VOTACAO             0\n",
      "SQ_CANDIDATO                 0\n",
      "NM_LOCAL_VOTACAO             0\n",
      "DS_LOCAL_VOTACAO_ENDERECO    0\n",
      "dtype: int64\n"
     ]
    }
   ],
   "source": [
    "dados_faltantes = df.isna()\n",
    "contagem_faltantes = dados_faltantes.sum()\n",
    "print(\"Número de valores faltantes em cada coluna: \", contagem_faltantes)"
   ]
  }
 ],
 "metadata": {
  "kernelspec": {
   "display_name": "pe_analytics",
   "language": "python",
   "name": "python3"
  },
  "language_info": {
   "codemirror_mode": {
    "name": "ipython",
    "version": 3
   },
   "file_extension": ".py",
   "mimetype": "text/x-python",
   "name": "python",
   "nbconvert_exporter": "python",
   "pygments_lexer": "ipython3",
   "version": "3.8.19"
  }
 },
 "nbformat": 4,
 "nbformat_minor": 2
}
