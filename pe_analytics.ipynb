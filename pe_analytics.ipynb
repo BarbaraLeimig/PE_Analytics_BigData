{
 "cells": [
  {
   "cell_type": "markdown",
   "metadata": {},
   "source": [
    "# Análise de Dados Eleitorais das Eleições Municipais de Pernmabuco de 2020"
   ]
  },
  {
   "cell_type": "code",
   "execution_count": 2,
   "metadata": {},
   "outputs": [],
   "source": [
    "import pandas as pd"
   ]
  },
  {
   "cell_type": "code",
   "execution_count": 3,
   "metadata": {},
   "outputs": [],
   "source": [
    "# FONTE: https://dadosabertos.tse.jus.br/dataset/resultados-2020/resource/977f5f4a-8d03-4b3d-aaa5-00001b996f02\n",
    "\n",
    "# LOAD dataset\n",
    "df = pd.read_csv('votacao_secao_2020_PE.csv', encoding='latin1', sep=\";\")"
   ]
  },
  {
   "cell_type": "markdown",
   "metadata": {},
   "source": [
    "## Objetivos Primários"
   ]
  },
  {
   "cell_type": "markdown",
   "metadata": {},
   "source": [
    "### Justificativa\n",
    "O uso de um dataset contendo informações eleitorais estaduais é crucial para uma compreensão aprofundada do processo democrático, permitindo análises de tendências políticas, avaliações do desempenho político, promoção da transparência eleitoral e facilitação da pesquisa acadêmica. \n",
    "Esses dados fornecem insights valiosos sobre o comportamento dos eleitores, resultados eleitorais e dinâmicas políticas em nível estadual ao longo do tempo. \n",
    "Além disso, eles são essenciais para informar políticas, promover a participação cívica e fortalecer as instituições democráticas, contribuindo para uma sociedade mais informada, engajada e democrática."
   ]
  },
  {
   "cell_type": "code",
   "execution_count": 4,
   "metadata": {},
   "outputs": [
    {
     "data": {
      "text/plain": [
       "<pandas._config.config.option_context at 0x1a42b4d8730>"
      ]
     },
     "execution_count": 4,
     "metadata": {},
     "output_type": "execute_result"
    }
   ],
   "source": [
    "# mostrar todas as colunas, deixar a célula mostrar todas as linhas e todo comprimento da informação\n",
    "pd.option_context('display.max_colwidth', None, 'display.max_columns', None, 'display.max_rows', None)"
   ]
  },
  {
   "cell_type": "markdown",
   "metadata": {},
   "source": [
    "### Colunas do Dataset"
   ]
  },
  {
   "cell_type": "code",
   "execution_count": 5,
   "metadata": {},
   "outputs": [
    {
     "data": {
      "text/html": [
       "<div>\n",
       "<style scoped>\n",
       "    .dataframe tbody tr th:only-of-type {\n",
       "        vertical-align: middle;\n",
       "    }\n",
       "\n",
       "    .dataframe tbody tr th {\n",
       "        vertical-align: top;\n",
       "    }\n",
       "\n",
       "    .dataframe thead th {\n",
       "        text-align: right;\n",
       "    }\n",
       "</style>\n",
       "<table border=\"1\" class=\"dataframe\">\n",
       "  <thead>\n",
       "    <tr style=\"text-align: right;\">\n",
       "      <th></th>\n",
       "      <th>DT_GERACAO</th>\n",
       "      <th>HH_GERACAO</th>\n",
       "      <th>ANO_ELEICAO</th>\n",
       "      <th>CD_TIPO_ELEICAO</th>\n",
       "      <th>NM_TIPO_ELEICAO</th>\n",
       "      <th>NR_TURNO</th>\n",
       "      <th>CD_ELEICAO</th>\n",
       "      <th>DS_ELEICAO</th>\n",
       "      <th>DT_ELEICAO</th>\n",
       "      <th>TP_ABRANGENCIA</th>\n",
       "      <th>...</th>\n",
       "      <th>NR_SECAO</th>\n",
       "      <th>CD_CARGO</th>\n",
       "      <th>DS_CARGO</th>\n",
       "      <th>NR_VOTAVEL</th>\n",
       "      <th>NM_VOTAVEL</th>\n",
       "      <th>QT_VOTOS</th>\n",
       "      <th>NR_LOCAL_VOTACAO</th>\n",
       "      <th>SQ_CANDIDATO</th>\n",
       "      <th>NM_LOCAL_VOTACAO</th>\n",
       "      <th>DS_LOCAL_VOTACAO_ENDERECO</th>\n",
       "    </tr>\n",
       "  </thead>\n",
       "  <tbody>\n",
       "    <tr>\n",
       "      <th>0</th>\n",
       "      <td>21/12/2020</td>\n",
       "      <td>16:55:14</td>\n",
       "      <td>2020</td>\n",
       "      <td>2</td>\n",
       "      <td>Eleição Ordinária</td>\n",
       "      <td>1</td>\n",
       "      <td>426</td>\n",
       "      <td>Eleições Municipais 2020</td>\n",
       "      <td>15/11/2020</td>\n",
       "      <td>M</td>\n",
       "      <td>...</td>\n",
       "      <td>62</td>\n",
       "      <td>13</td>\n",
       "      <td>Vereador</td>\n",
       "      <td>28999</td>\n",
       "      <td>FRANCISCO DE ASSIS SOUSA</td>\n",
       "      <td>1</td>\n",
       "      <td>1082</td>\n",
       "      <td>0</td>\n",
       "      <td>ESCOLA PARTICULAR IMACULADA CONCEIÇÃO</td>\n",
       "      <td>R. COMANDANTE SUPERIOR, N. 841, N. SRA. PENHA</td>\n",
       "    </tr>\n",
       "    <tr>\n",
       "      <th>1</th>\n",
       "      <td>21/12/2020</td>\n",
       "      <td>16:55:14</td>\n",
       "      <td>2020</td>\n",
       "      <td>2</td>\n",
       "      <td>Eleição Ordinária</td>\n",
       "      <td>1</td>\n",
       "      <td>426</td>\n",
       "      <td>Eleições Municipais 2020</td>\n",
       "      <td>15/11/2020</td>\n",
       "      <td>M</td>\n",
       "      <td>...</td>\n",
       "      <td>62</td>\n",
       "      <td>13</td>\n",
       "      <td>Vereador</td>\n",
       "      <td>40123</td>\n",
       "      <td>CICERO RAMON PEREIRA OLIVEIRA</td>\n",
       "      <td>2</td>\n",
       "      <td>1082</td>\n",
       "      <td>0</td>\n",
       "      <td>ESCOLA PARTICULAR IMACULADA CONCEIÇÃO</td>\n",
       "      <td>R. COMANDANTE SUPERIOR, N. 841, N. SRA. PENHA</td>\n",
       "    </tr>\n",
       "    <tr>\n",
       "      <th>2</th>\n",
       "      <td>21/12/2020</td>\n",
       "      <td>16:55:14</td>\n",
       "      <td>2020</td>\n",
       "      <td>2</td>\n",
       "      <td>Eleição Ordinária</td>\n",
       "      <td>1</td>\n",
       "      <td>426</td>\n",
       "      <td>Eleições Municipais 2020</td>\n",
       "      <td>15/11/2020</td>\n",
       "      <td>M</td>\n",
       "      <td>...</td>\n",
       "      <td>62</td>\n",
       "      <td>13</td>\n",
       "      <td>Vereador</td>\n",
       "      <td>40333</td>\n",
       "      <td>GILSON QUEIROZ RODRIGUES</td>\n",
       "      <td>2</td>\n",
       "      <td>1082</td>\n",
       "      <td>0</td>\n",
       "      <td>ESCOLA PARTICULAR IMACULADA CONCEIÇÃO</td>\n",
       "      <td>R. COMANDANTE SUPERIOR, N. 841, N. SRA. PENHA</td>\n",
       "    </tr>\n",
       "    <tr>\n",
       "      <th>3</th>\n",
       "      <td>21/12/2020</td>\n",
       "      <td>16:55:14</td>\n",
       "      <td>2020</td>\n",
       "      <td>2</td>\n",
       "      <td>Eleição Ordinária</td>\n",
       "      <td>1</td>\n",
       "      <td>426</td>\n",
       "      <td>Eleições Municipais 2020</td>\n",
       "      <td>15/11/2020</td>\n",
       "      <td>M</td>\n",
       "      <td>...</td>\n",
       "      <td>62</td>\n",
       "      <td>13</td>\n",
       "      <td>Vereador</td>\n",
       "      <td>40402</td>\n",
       "      <td>MARIA DO SOCORRO LIBERAL SIMÕES SILVA</td>\n",
       "      <td>1</td>\n",
       "      <td>1082</td>\n",
       "      <td>0</td>\n",
       "      <td>ESCOLA PARTICULAR IMACULADA CONCEIÇÃO</td>\n",
       "      <td>R. COMANDANTE SUPERIOR, N. 841, N. SRA. PENHA</td>\n",
       "    </tr>\n",
       "    <tr>\n",
       "      <th>4</th>\n",
       "      <td>21/12/2020</td>\n",
       "      <td>16:55:14</td>\n",
       "      <td>2020</td>\n",
       "      <td>2</td>\n",
       "      <td>Eleição Ordinária</td>\n",
       "      <td>1</td>\n",
       "      <td>426</td>\n",
       "      <td>Eleições Municipais 2020</td>\n",
       "      <td>15/11/2020</td>\n",
       "      <td>M</td>\n",
       "      <td>...</td>\n",
       "      <td>62</td>\n",
       "      <td>13</td>\n",
       "      <td>Vereador</td>\n",
       "      <td>51000</td>\n",
       "      <td>ANTÔNIO DIONÍZIO DA SILVA</td>\n",
       "      <td>3</td>\n",
       "      <td>1082</td>\n",
       "      <td>0</td>\n",
       "      <td>ESCOLA PARTICULAR IMACULADA CONCEIÇÃO</td>\n",
       "      <td>R. COMANDANTE SUPERIOR, N. 841, N. SRA. PENHA</td>\n",
       "    </tr>\n",
       "  </tbody>\n",
       "</table>\n",
       "<p>5 rows × 26 columns</p>\n",
       "</div>"
      ],
      "text/plain": [
       "   DT_GERACAO HH_GERACAO  ANO_ELEICAO  CD_TIPO_ELEICAO    NM_TIPO_ELEICAO  \\\n",
       "0  21/12/2020   16:55:14         2020                2  Eleição Ordinária   \n",
       "1  21/12/2020   16:55:14         2020                2  Eleição Ordinária   \n",
       "2  21/12/2020   16:55:14         2020                2  Eleição Ordinária   \n",
       "3  21/12/2020   16:55:14         2020                2  Eleição Ordinária   \n",
       "4  21/12/2020   16:55:14         2020                2  Eleição Ordinária   \n",
       "\n",
       "   NR_TURNO  CD_ELEICAO                DS_ELEICAO  DT_ELEICAO TP_ABRANGENCIA  \\\n",
       "0         1         426  Eleições Municipais 2020  15/11/2020              M   \n",
       "1         1         426  Eleições Municipais 2020  15/11/2020              M   \n",
       "2         1         426  Eleições Municipais 2020  15/11/2020              M   \n",
       "3         1         426  Eleições Municipais 2020  15/11/2020              M   \n",
       "4         1         426  Eleições Municipais 2020  15/11/2020              M   \n",
       "\n",
       "   ... NR_SECAO  CD_CARGO  DS_CARGO  NR_VOTAVEL  \\\n",
       "0  ...       62        13  Vereador       28999   \n",
       "1  ...       62        13  Vereador       40123   \n",
       "2  ...       62        13  Vereador       40333   \n",
       "3  ...       62        13  Vereador       40402   \n",
       "4  ...       62        13  Vereador       51000   \n",
       "\n",
       "                              NM_VOTAVEL  QT_VOTOS  NR_LOCAL_VOTACAO  \\\n",
       "0               FRANCISCO DE ASSIS SOUSA         1              1082   \n",
       "1          CICERO RAMON PEREIRA OLIVEIRA         2              1082   \n",
       "2               GILSON QUEIROZ RODRIGUES         2              1082   \n",
       "3  MARIA DO SOCORRO LIBERAL SIMÕES SILVA         1              1082   \n",
       "4              ANTÔNIO DIONÍZIO DA SILVA         3              1082   \n",
       "\n",
       "   SQ_CANDIDATO                       NM_LOCAL_VOTACAO  \\\n",
       "0             0  ESCOLA PARTICULAR IMACULADA CONCEIÇÃO   \n",
       "1             0  ESCOLA PARTICULAR IMACULADA CONCEIÇÃO   \n",
       "2             0  ESCOLA PARTICULAR IMACULADA CONCEIÇÃO   \n",
       "3             0  ESCOLA PARTICULAR IMACULADA CONCEIÇÃO   \n",
       "4             0  ESCOLA PARTICULAR IMACULADA CONCEIÇÃO   \n",
       "\n",
       "                       DS_LOCAL_VOTACAO_ENDERECO  \n",
       "0  R. COMANDANTE SUPERIOR, N. 841, N. SRA. PENHA  \n",
       "1  R. COMANDANTE SUPERIOR, N. 841, N. SRA. PENHA  \n",
       "2  R. COMANDANTE SUPERIOR, N. 841, N. SRA. PENHA  \n",
       "3  R. COMANDANTE SUPERIOR, N. 841, N. SRA. PENHA  \n",
       "4  R. COMANDANTE SUPERIOR, N. 841, N. SRA. PENHA  \n",
       "\n",
       "[5 rows x 26 columns]"
      ]
     },
     "execution_count": 5,
     "metadata": {},
     "output_type": "execute_result"
    }
   ],
   "source": [
    "df.head()"
   ]
  },
  {
   "cell_type": "code",
   "execution_count": 6,
   "metadata": {},
   "outputs": [
    {
     "name": "stdout",
     "output_type": "stream",
     "text": [
      "<class 'pandas.core.frame.DataFrame'>\n",
      "RangeIndex: 1610335 entries, 0 to 1610334\n",
      "Data columns (total 26 columns):\n",
      " #   Column                     Non-Null Count    Dtype \n",
      "---  ------                     --------------    ----- \n",
      " 0   DT_GERACAO                 1610335 non-null  object\n",
      " 1   HH_GERACAO                 1610335 non-null  object\n",
      " 2   ANO_ELEICAO                1610335 non-null  int64 \n",
      " 3   CD_TIPO_ELEICAO            1610335 non-null  int64 \n",
      " 4   NM_TIPO_ELEICAO            1610335 non-null  object\n",
      " 5   NR_TURNO                   1610335 non-null  int64 \n",
      " 6   CD_ELEICAO                 1610335 non-null  int64 \n",
      " 7   DS_ELEICAO                 1610335 non-null  object\n",
      " 8   DT_ELEICAO                 1610335 non-null  object\n",
      " 9   TP_ABRANGENCIA             1610335 non-null  object\n",
      " 10  SG_UF                      1610335 non-null  object\n",
      " 11  SG_UE                      1610335 non-null  int64 \n",
      " 12  NM_UE                      1610335 non-null  object\n",
      " 13  CD_MUNICIPIO               1610335 non-null  int64 \n",
      " 14  NM_MUNICIPIO               1610335 non-null  object\n",
      " 15  NR_ZONA                    1610335 non-null  int64 \n",
      " 16  NR_SECAO                   1610335 non-null  int64 \n",
      " 17  CD_CARGO                   1610335 non-null  int64 \n",
      " 18  DS_CARGO                   1610335 non-null  object\n",
      " 19  NR_VOTAVEL                 1610335 non-null  int64 \n",
      " 20  NM_VOTAVEL                 1610335 non-null  object\n",
      " 21  QT_VOTOS                   1610335 non-null  int64 \n",
      " 22  NR_LOCAL_VOTACAO           1610335 non-null  int64 \n",
      " 23  SQ_CANDIDATO               1610335 non-null  int64 \n",
      " 24  NM_LOCAL_VOTACAO           1610335 non-null  object\n",
      " 25  DS_LOCAL_VOTACAO_ENDERECO  1610335 non-null  object\n",
      "dtypes: int64(13), object(13)\n",
      "memory usage: 319.4+ MB\n"
     ]
    }
   ],
   "source": [
    "df.info()"
   ]
  },
  {
   "cell_type": "markdown",
   "metadata": {},
   "source": [
    "### Quantidade de Registros:"
   ]
  },
  {
   "cell_type": "code",
   "execution_count": 7,
   "metadata": {},
   "outputs": [
    {
     "name": "stdout",
     "output_type": "stream",
     "text": [
      "Quantidade de registros: 1610335\n"
     ]
    }
   ],
   "source": [
    "num_registros = df.shape[0]\n",
    "print(\"Quantidade de registros:\", num_registros)"
   ]
  },
  {
   "cell_type": "markdown",
   "metadata": {},
   "source": [
    "### Variáveis Disponíveis:"
   ]
  },
  {
   "cell_type": "code",
   "execution_count": 8,
   "metadata": {},
   "outputs": [
    {
     "name": "stdout",
     "output_type": "stream",
     "text": [
      "Variáveis disponíveis: ['DT_GERACAO', 'HH_GERACAO', 'ANO_ELEICAO', 'CD_TIPO_ELEICAO', 'NM_TIPO_ELEICAO', 'NR_TURNO', 'CD_ELEICAO', 'DS_ELEICAO', 'DT_ELEICAO', 'TP_ABRANGENCIA', 'SG_UF', 'SG_UE', 'NM_UE', 'CD_MUNICIPIO', 'NM_MUNICIPIO', 'NR_ZONA', 'NR_SECAO', 'CD_CARGO', 'DS_CARGO', 'NR_VOTAVEL', 'NM_VOTAVEL', 'QT_VOTOS', 'NR_LOCAL_VOTACAO', 'SQ_CANDIDATO', 'NM_LOCAL_VOTACAO', 'DS_LOCAL_VOTACAO_ENDERECO']\n"
     ]
    }
   ],
   "source": [
    "variaveis_disponiveis = df.columns.tolist()\n",
    "print(\"Variáveis disponíveis:\", variaveis_disponiveis)"
   ]
  },
  {
   "cell_type": "code",
   "execution_count": 9,
   "metadata": {},
   "outputs": [
    {
     "name": "stdout",
     "output_type": "stream",
     "text": [
      "Cargos:  ['Vereador' 'Prefeito']\n"
     ]
    }
   ],
   "source": [
    "votos_totais = df['DS_CARGO'].unique()\n",
    "print(\"Cargos: \", votos_totais)"
   ]
  },
  {
   "cell_type": "markdown",
   "metadata": {},
   "source": [
    "### Possíveis Lacunas nos Dados:"
   ]
  },
  {
   "cell_type": "code",
   "execution_count": 10,
   "metadata": {},
   "outputs": [
    {
     "name": "stdout",
     "output_type": "stream",
     "text": [
      "Número de valores nulos em cada coluna: \n",
      " DT_GERACAO                   0\n",
      "HH_GERACAO                   0\n",
      "ANO_ELEICAO                  0\n",
      "CD_TIPO_ELEICAO              0\n",
      "NM_TIPO_ELEICAO              0\n",
      "NR_TURNO                     0\n",
      "CD_ELEICAO                   0\n",
      "DS_ELEICAO                   0\n",
      "DT_ELEICAO                   0\n",
      "TP_ABRANGENCIA               0\n",
      "SG_UF                        0\n",
      "SG_UE                        0\n",
      "NM_UE                        0\n",
      "CD_MUNICIPIO                 0\n",
      "NM_MUNICIPIO                 0\n",
      "NR_ZONA                      0\n",
      "NR_SECAO                     0\n",
      "CD_CARGO                     0\n",
      "DS_CARGO                     0\n",
      "NR_VOTAVEL                   0\n",
      "NM_VOTAVEL                   0\n",
      "QT_VOTOS                     0\n",
      "NR_LOCAL_VOTACAO             0\n",
      "SQ_CANDIDATO                 0\n",
      "NM_LOCAL_VOTACAO             0\n",
      "DS_LOCAL_VOTACAO_ENDERECO    0\n",
      "dtype: int64\n"
     ]
    }
   ],
   "source": [
    "dados_nulos = df.isnull()\n",
    "contagem_nulos = dados_nulos.sum()\n",
    "print(\"Número de valores nulos em cada coluna: \\n\", contagem_nulos)"
   ]
  },
  {
   "cell_type": "code",
   "execution_count": 11,
   "metadata": {},
   "outputs": [
    {
     "name": "stdout",
     "output_type": "stream",
     "text": [
      "Número de valores faltantes em cada coluna: \n",
      " DT_GERACAO                   0\n",
      "HH_GERACAO                   0\n",
      "ANO_ELEICAO                  0\n",
      "CD_TIPO_ELEICAO              0\n",
      "NM_TIPO_ELEICAO              0\n",
      "NR_TURNO                     0\n",
      "CD_ELEICAO                   0\n",
      "DS_ELEICAO                   0\n",
      "DT_ELEICAO                   0\n",
      "TP_ABRANGENCIA               0\n",
      "SG_UF                        0\n",
      "SG_UE                        0\n",
      "NM_UE                        0\n",
      "CD_MUNICIPIO                 0\n",
      "NM_MUNICIPIO                 0\n",
      "NR_ZONA                      0\n",
      "NR_SECAO                     0\n",
      "CD_CARGO                     0\n",
      "DS_CARGO                     0\n",
      "NR_VOTAVEL                   0\n",
      "NM_VOTAVEL                   0\n",
      "QT_VOTOS                     0\n",
      "NR_LOCAL_VOTACAO             0\n",
      "SQ_CANDIDATO                 0\n",
      "NM_LOCAL_VOTACAO             0\n",
      "DS_LOCAL_VOTACAO_ENDERECO    0\n",
      "dtype: int64\n"
     ]
    }
   ],
   "source": [
    "dados_faltantes = df.isna()\n",
    "contagem_faltantes = dados_faltantes.sum()\n",
    "print(\"Número de valores faltantes em cada coluna: \\n\", contagem_faltantes)"
   ]
  },
  {
   "cell_type": "markdown",
   "metadata": {},
   "source": [
    "## Análise Exploratória"
   ]
  },
  {
   "cell_type": "markdown",
   "metadata": {},
   "source": [
    "#### Municípios\n"
   ]
  },
  {
   "cell_type": "code",
   "execution_count": 25,
   "metadata": {},
   "outputs": [
    {
     "data": {
      "text/plain": [
       "NM_MUNICIPIO\n",
       "RECIFE                     927167\n",
       "JABOATÃO DOS GUARARAPES    348251\n",
       "OLINDA                     231439\n",
       "CARUARU                    186633\n",
       "PAULISTA                   176363\n",
       "PETROLINA                  170622\n",
       "CABO DE SANTO AGOSTINHO    130451\n",
       "CAMARAGIBE                  96469\n",
       "VITÓRIA DE SANTO ANTÃO      80788\n",
       "GARANHUNS                   71355\n",
       "IGARASSU                    67892\n",
       "ABREU E LIMA                67606\n",
       "IPOJUCA                     66637\n",
       "SÃO LOURENÇO DA MATA        65096\n",
       "GRAVATÁ                     53527\n",
       "Name: QT_VOTOS, dtype: int64"
      ]
     },
     "execution_count": 25,
     "metadata": {},
     "output_type": "execute_result"
    }
   ],
   "source": [
    "# FAZER GRÁFICO DE COLUNAS\n",
    "# 15 Municípios com mais votos\n",
    "df_vereadores = df[df['DS_CARGO'] == 'Vereador']\n",
    "\n",
    "votos_por_municipio = df_vereadores.groupby('NM_MUNICIPIO')['QT_VOTOS'].sum()\n",
    "\n",
    "votos_por_municipio = votos_por_municipio.sort_values(ascending=False)\n",
    "\n",
    "votos_por_municipio.head(15)"
   ]
  },
  {
   "cell_type": "code",
   "execution_count": 36,
   "metadata": {},
   "outputs": [
    {
     "name": "stderr",
     "output_type": "stream",
     "text": [
      "C:\\Users\\guilhermevmmpg\\AppData\\Local\\Temp\\ipykernel_2400\\1846342143.py:7: SettingWithCopyWarning: \n",
      "A value is trying to be set on a copy of a slice from a DataFrame.\n",
      "Try using .loc[row_indexer,col_indexer] = value instead\n",
      "\n",
      "See the caveats in the documentation: https://pandas.pydata.org/pandas-docs/stable/user_guide/indexing.html#returning-a-view-versus-a-copy\n",
      "  df_mun_votos.loc[:, 'PORCENT_MUNICIPIOS'] = (df_mun_votos['QT_VOTOS'] / total_votos_ver) * 100\n"
     ]
    },
    {
     "data": {
      "text/html": [
       "<div>\n",
       "<style scoped>\n",
       "    .dataframe tbody tr th:only-of-type {\n",
       "        vertical-align: middle;\n",
       "    }\n",
       "\n",
       "    .dataframe tbody tr th {\n",
       "        vertical-align: top;\n",
       "    }\n",
       "\n",
       "    .dataframe thead th {\n",
       "        text-align: right;\n",
       "    }\n",
       "</style>\n",
       "<table border=\"1\" class=\"dataframe\">\n",
       "  <thead>\n",
       "    <tr style=\"text-align: right;\">\n",
       "      <th></th>\n",
       "      <th>QT_VOTOS</th>\n",
       "      <th>PORCENT_MUNICIPIOS</th>\n",
       "    </tr>\n",
       "    <tr>\n",
       "      <th>NM_MUNICIPIO</th>\n",
       "      <th></th>\n",
       "      <th></th>\n",
       "    </tr>\n",
       "  </thead>\n",
       "  <tbody>\n",
       "    <tr>\n",
       "      <th>RECIFE</th>\n",
       "      <td>927167</td>\n",
       "      <td>16.878822</td>\n",
       "    </tr>\n",
       "    <tr>\n",
       "      <th>JABOATÃO DOS GUARARAPES</th>\n",
       "      <td>348251</td>\n",
       "      <td>6.339814</td>\n",
       "    </tr>\n",
       "    <tr>\n",
       "      <th>OLINDA</th>\n",
       "      <td>231439</td>\n",
       "      <td>4.213284</td>\n",
       "    </tr>\n",
       "    <tr>\n",
       "      <th>CARUARU</th>\n",
       "      <td>186633</td>\n",
       "      <td>3.397603</td>\n",
       "    </tr>\n",
       "    <tr>\n",
       "      <th>PAULISTA</th>\n",
       "      <td>176363</td>\n",
       "      <td>3.210640</td>\n",
       "    </tr>\n",
       "    <tr>\n",
       "      <th>PETROLINA</th>\n",
       "      <td>170622</td>\n",
       "      <td>3.106127</td>\n",
       "    </tr>\n",
       "    <tr>\n",
       "      <th>CABO DE SANTO AGOSTINHO</th>\n",
       "      <td>130451</td>\n",
       "      <td>2.374825</td>\n",
       "    </tr>\n",
       "    <tr>\n",
       "      <th>CAMARAGIBE</th>\n",
       "      <td>96469</td>\n",
       "      <td>1.756192</td>\n",
       "    </tr>\n",
       "    <tr>\n",
       "      <th>VITÓRIA DE SANTO ANTÃO</th>\n",
       "      <td>80788</td>\n",
       "      <td>1.470723</td>\n",
       "    </tr>\n",
       "    <tr>\n",
       "      <th>GARANHUNS</th>\n",
       "      <td>71355</td>\n",
       "      <td>1.298998</td>\n",
       "    </tr>\n",
       "    <tr>\n",
       "      <th>IGARASSU</th>\n",
       "      <td>67892</td>\n",
       "      <td>1.235955</td>\n",
       "    </tr>\n",
       "    <tr>\n",
       "      <th>ABREU E LIMA</th>\n",
       "      <td>67606</td>\n",
       "      <td>1.230749</td>\n",
       "    </tr>\n",
       "    <tr>\n",
       "      <th>IPOJUCA</th>\n",
       "      <td>66637</td>\n",
       "      <td>1.213108</td>\n",
       "    </tr>\n",
       "    <tr>\n",
       "      <th>SÃO LOURENÇO DA MATA</th>\n",
       "      <td>65096</td>\n",
       "      <td>1.185055</td>\n",
       "    </tr>\n",
       "    <tr>\n",
       "      <th>GRAVATÁ</th>\n",
       "      <td>53527</td>\n",
       "      <td>0.974444</td>\n",
       "    </tr>\n",
       "  </tbody>\n",
       "</table>\n",
       "</div>"
      ],
      "text/plain": [
       "                         QT_VOTOS  PORCENT_MUNICIPIOS\n",
       "NM_MUNICIPIO                                         \n",
       "RECIFE                     927167           16.878822\n",
       "JABOATÃO DOS GUARARAPES    348251            6.339814\n",
       "OLINDA                     231439            4.213284\n",
       "CARUARU                    186633            3.397603\n",
       "PAULISTA                   176363            3.210640\n",
       "PETROLINA                  170622            3.106127\n",
       "CABO DE SANTO AGOSTINHO    130451            2.374825\n",
       "CAMARAGIBE                  96469            1.756192\n",
       "VITÓRIA DE SANTO ANTÃO      80788            1.470723\n",
       "GARANHUNS                   71355            1.298998\n",
       "IGARASSU                    67892            1.235955\n",
       "ABREU E LIMA                67606            1.230749\n",
       "IPOJUCA                     66637            1.213108\n",
       "SÃO LOURENÇO DA MATA        65096            1.185055\n",
       "GRAVATÁ                     53527            0.974444"
      ]
     },
     "execution_count": 36,
     "metadata": {},
     "output_type": "execute_result"
    }
   ],
   "source": [
    "# porcentagem por municpio\n",
    "\n",
    "df_mun_votos = df_vereadores[['NM_MUNICIPIO', 'QT_VOTOS']]\n",
    "\n",
    "total_votos_ver = df_mun_votos['QT_VOTOS'].sum()\n",
    "\n",
    "df_mun_votos.loc[:, 'PORCENT_MUNICIPIOS'] = (df_mun_votos['QT_VOTOS'] / total_votos_ver) * 100\n",
    "\n",
    "# soma_porcent_candidato_ver = df_ver_rec_validos.groupby('NM_VOTAVEL')['PORCENT_VALIDOS'].sum()\n",
    "\n",
    "votos_por_municipio = df_mun_votos.groupby('NM_MUNICIPIO').agg({'QT_VOTOS':'sum', 'PORCENT_MUNICIPIOS':'sum'})\n",
    "\n",
    "votos_por_municipio = votos_por_municipio.sort_values(by= 'PORCENT_MUNICIPIOS', ascending=False)\n",
    "\n",
    "votos_por_municipio.head(15)"
   ]
  },
  {
   "cell_type": "code",
   "execution_count": 13,
   "metadata": {},
   "outputs": [],
   "source": [
    "# Apenas dados do Recife\n",
    "df_recife = df[df['NM_MUNICIPIO'] == 'RECIFE']"
   ]
  },
  {
   "cell_type": "markdown",
   "metadata": {},
   "source": [
    "#### Quantidade de votos para Prefeito em Recife por turno"
   ]
  },
  {
   "cell_type": "code",
   "execution_count": 14,
   "metadata": {},
   "outputs": [
    {
     "name": "stdout",
     "output_type": "stream",
     "text": [
      "Quantidade Total de Votos para Prefeito em Recife no PRIMEIRO turno:  927167\n",
      "Quantidade Total de Votos para Prefeito em Recife no SEGUNDO turno:  911314\n"
     ]
    }
   ],
   "source": [
    "df_pref_rec = df_recife[df_recife['DS_CARGO'] == 'Prefeito']\n",
    "pref_rec_turn_1 = df_pref_rec[df_pref_rec['NR_TURNO'] == 1]\n",
    "total_votos_pref_rec_turn_1 = pref_rec_turn_1['QT_VOTOS'].sum()\n",
    "print(\"Quantidade Total de Votos para Prefeito em Recife no PRIMEIRO turno: \", total_votos_pref_rec_turn_1)\n",
    "\n",
    "pref_rec_turn_2 = df_pref_rec[df_pref_rec['NR_TURNO'] == 2]\n",
    "total_votos_pref_rec_turn_2 = pref_rec_turn_2['QT_VOTOS'].sum()\n",
    "print(\"Quantidade Total de Votos para Prefeito em Recife no SEGUNDO turno: \", total_votos_pref_rec_turn_2)"
   ]
  },
  {
   "cell_type": "markdown",
   "metadata": {},
   "source": [
    "#### Quantidad de votos para Vereador em Recife"
   ]
  },
  {
   "cell_type": "code",
   "execution_count": 15,
   "metadata": {},
   "outputs": [
    {
     "name": "stdout",
     "output_type": "stream",
     "text": [
      "Quantidade Total de Votos para Vereadores em Recife:  927167\n"
     ]
    }
   ],
   "source": [
    "df_ver_rec = df_recife[df_recife['DS_CARGO'] == 'Vereador']\n",
    "total_votos_ver_rec = df_ver_rec['QT_VOTOS'].sum()\n",
    "print(\"Quantidade Total de Votos para Vereadores em Recife: \", total_votos_ver_rec)"
   ]
  },
  {
   "cell_type": "markdown",
   "metadata": {},
   "source": [
    "#### Candidatos mais votados a Prefeito do Recife no primeiro turno"
   ]
  },
  {
   "cell_type": "code",
   "execution_count": 16,
   "metadata": {},
   "outputs": [
    {
     "name": "stdout",
     "output_type": "stream",
     "text": [
      "Ordem dos Candidatos a Prefeito no Recife mais votados no PRIMEIRO turno: \n",
      " NM_VOTAVEL\n",
      "JOAO HENRIQUE DE ANDRADE LIMA CAMPOS       233028\n",
      "MARILIA VALENÇA ROCHA ARRAES DE ALENCAR    223248\n",
      "JOSÉ MENDONÇA BEZERRA FILHO                200551\n",
      "PATRICIA DE OLIVEIRA DOMINGOS              112296\n",
      "VOTO NULO                                   81657\n",
      "VOTO BRANCO                                 45448\n",
      "CARLOS ANTONIO GOMES DE ANDRADE LIMA        13938\n",
      "ALBERTO JORGE DO NASCIMENTO FEITOSA          9441\n",
      "CHARBEL ELIAS MAROUN                         3867\n",
      "THIAGO DE OLIVEIRA SANTOS                    1232\n",
      "CLAUDIA MACHADO RIBEIRO                      1190\n",
      "MARCO AURELIO DE MEDEIROS LIMA               1170\n",
      "VICTOR ASSIS DA SILVA                         101\n",
      "Name: QT_VOTOS, dtype: int64\n"
     ]
    }
   ],
   "source": [
    "soma_votos_por_candidato_pref = pref_rec_turn_1.groupby('NM_VOTAVEL')['QT_VOTOS'].sum()\n",
    "soma_votos_por_candidato_ord_pref = soma_votos_por_candidato_pref.sort_values(ascending=False)\n",
    "print(\"Ordem dos Candidatos a Prefeito no Recife mais votados no PRIMEIRO turno: \\n\", soma_votos_por_candidato_ord_pref)"
   ]
  },
  {
   "cell_type": "markdown",
   "metadata": {},
   "source": [
    "#### Candidatos mais votados a Vereador do Recife"
   ]
  },
  {
   "cell_type": "code",
   "execution_count": 17,
   "metadata": {},
   "outputs": [
    {
     "name": "stdout",
     "output_type": "stream",
     "text": [
      "Ordem dos Candidatos a Vereador no Recife mais votados: \n",
      " NM_VOTAVEL\n",
      "VOTO NULO                                       63639\n",
      "VOTO BRANCO                                     48760\n",
      "Partido Socialista Brasileiro                   14169\n",
      "DANIELLE GONDIM PORTELA                         14114\n",
      "ANDREZA BANDEIRA FERREIRA DE OLIVEIRA MELO      13249\n",
      "JOSE IVANILDO DE MOURA JUNIOR                   12207\n",
      "RAFAEL ACIOLI MEDEIROS                          11938\n",
      "ROMERO JATOBÁ CAVALCANTI NETO                   11500\n",
      "DAVI BERNARDO MUNIZ                             10498\n",
      "HELIO BATISTA DE OLIVEIRA                       10393\n",
      "Partido dos Trabalhadores                       10358\n",
      "ADERALDO DE OLIVEIRA FLORÊNCIO                  10062\n",
      "LUIZ FELIPE CÂMARA DE OLIVEIRA PONTES           10037\n",
      "FRANCISCO FERREIRA DA SILVA FILHO                9194\n",
      "SAMUEL RODRIGUES DOS SANTOS SALAZAR              9188\n",
      "CARLOS EDUARDO MUNIZ PACHECO                     8586\n",
      "NATÁLIA RAYANE COUTO BARBOSA                     8424\n",
      "FREDERICO MENEZES DE MOURA SOBRINHO FERREIRA     8407\n",
      "ALCIDES TEIXEIRA NETO                            8379\n",
      "RODRIGO BEZERRA COUTINHO DE MELO                 8359\n",
      "Name: QT_VOTOS, dtype: int64\n"
     ]
    }
   ],
   "source": [
    "soma_votos_por_candidato_ver = df_ver_rec.groupby('NM_VOTAVEL')['QT_VOTOS'].sum()\n",
    "soma_votos_por_candidato_ord_ver = soma_votos_por_candidato_ver.sort_values(ascending=False)\n",
    "print(\"Ordem dos Candidatos a Vereador no Recife mais votados: \\n\", soma_votos_por_candidato_ord_ver.head(20))"
   ]
  },
  {
   "cell_type": "code",
   "execution_count": 18,
   "metadata": {},
   "outputs": [
    {
     "name": "stdout",
     "output_type": "stream",
     "text": [
      "Ordem dos Candidatos a Vereador no Recife mais votados: \n",
      " NM_VOTAVEL\n",
      "VOTO NULO                                       6.863812\n",
      "VOTO BRANCO                                     5.259031\n",
      "Partido Socialista Brasileiro                   1.528204\n",
      "DANIELLE GONDIM PORTELA                         1.522272\n",
      "ANDREZA BANDEIRA FERREIRA DE OLIVEIRA MELO      1.428977\n",
      "JOSE IVANILDO DE MOURA JUNIOR                   1.316591\n",
      "RAFAEL ACIOLI MEDEIROS                          1.287578\n",
      "ROMERO JATOBÁ CAVALCANTI NETO                   1.240338\n",
      "DAVI BERNARDO MUNIZ                             1.132266\n",
      "HELIO BATISTA DE OLIVEIRA                       1.120942\n",
      "Partido dos Trabalhadores                       1.117167\n",
      "ADERALDO DE OLIVEIRA FLORÊNCIO                  1.085241\n",
      "LUIZ FELIPE CÂMARA DE OLIVEIRA PONTES           1.082545\n",
      "FRANCISCO FERREIRA DA SILVA FILHO               0.991623\n",
      "SAMUEL RODRIGUES DOS SANTOS SALAZAR             0.990976\n",
      "CARLOS EDUARDO MUNIZ PACHECO                    0.926047\n",
      "NATÁLIA RAYANE COUTO BARBOSA                    0.908574\n",
      "FREDERICO MENEZES DE MOURA SOBRINHO FERREIRA    0.906741\n",
      "ALCIDES TEIXEIRA NETO                           0.903721\n",
      "RODRIGO BEZERRA COUTINHO DE MELO                0.901564\n",
      "Name: PORCENT_TOTAL, dtype: float64\n"
     ]
    },
    {
     "name": "stderr",
     "output_type": "stream",
     "text": [
      "C:\\Users\\guilhermevmmpg\\AppData\\Local\\Temp\\ipykernel_2400\\2861456208.py:2: SettingWithCopyWarning: \n",
      "A value is trying to be set on a copy of a slice from a DataFrame.\n",
      "Try using .loc[row_indexer,col_indexer] = value instead\n",
      "\n",
      "See the caveats in the documentation: https://pandas.pydata.org/pandas-docs/stable/user_guide/indexing.html#returning-a-view-versus-a-copy\n",
      "  df_ver_rec.loc[:, 'PORCENT_TOTAL'] = (df_ver_rec['QT_VOTOS'] / total_votos_ver_rec) * 100\n"
     ]
    }
   ],
   "source": [
    "# Atribuir um percentual para cada NM_VOTAVEL\n",
    "df_ver_rec.loc[:, 'PORCENT_TOTAL'] = (df_ver_rec['QT_VOTOS'] / total_votos_ver_rec) * 100\n",
    "\n",
    "soma_porcent_candidato_ver = df_ver_rec.groupby('NM_VOTAVEL')['PORCENT_TOTAL'].sum()\n",
    "soma_porcent_candidato_ord_ver = soma_porcent_candidato_ver.sort_values(ascending=False)\n",
    "print(\"Ordem dos Candidatos a Vereador no Recife mais votados: \\n\", soma_porcent_candidato_ord_ver.head(20))"
   ]
  },
  {
   "cell_type": "code",
   "execution_count": 19,
   "metadata": {},
   "outputs": [],
   "source": [
    "# Separar o total de votos dos Votos Válidos\n",
    "brancos_e_nulos = ['VOTO BRANCO', 'VOTO NULO']\n",
    "df_ver_rec_validos = df_ver_rec[~df_ver_rec['NM_VOTAVEL'].isin(brancos_e_nulos)]"
   ]
  },
  {
   "cell_type": "code",
   "execution_count": 20,
   "metadata": {},
   "outputs": [
    {
     "name": "stdout",
     "output_type": "stream",
     "text": [
      "Ordem dos Candidatos a Vereador no Recife mais votados: \n",
      " NM_VOTAVEL\n",
      "Partido Socialista Brasileiro                   1.739023\n",
      "DANIELLE GONDIM PORTELA                         1.732272\n",
      "ANDREZA BANDEIRA FERREIRA DE OLIVEIRA MELO      1.626107\n",
      "JOSE IVANILDO DE MOURA JUNIOR                   1.498218\n",
      "RAFAEL ACIOLI MEDEIROS                          1.465202\n",
      "ROMERO JATOBÁ CAVALCANTI NETO                   1.411445\n",
      "DAVI BERNARDO MUNIZ                             1.288465\n",
      "HELIO BATISTA DE OLIVEIRA                       1.275578\n",
      "Partido dos Trabalhadores                       1.271282\n",
      "ADERALDO DE OLIVEIRA FLORÊNCIO                  1.234953\n",
      "LUIZ FELIPE CÂMARA DE OLIVEIRA PONTES           1.231884\n",
      "FRANCISCO FERREIRA DA SILVA FILHO               1.128419\n",
      "SAMUEL RODRIGUES DOS SANTOS SALAZAR             1.127683\n",
      "CARLOS EDUARDO MUNIZ PACHECO                    1.053797\n",
      "NATÁLIA RAYANE COUTO BARBOSA                    1.033914\n",
      "FREDERICO MENEZES DE MOURA SOBRINHO FERREIRA    1.031827\n",
      "ALCIDES TEIXEIRA NETO                           1.028391\n",
      "RODRIGO BEZERRA COUTINHO DE MELO                1.025936\n",
      "PAULO RENATO ANTUNES GUIMARÃES                  0.994639\n",
      "ANA LUCIA DO REGO FERREIRA                      0.969724\n",
      "Name: PORCENT_VALIDOS, dtype: float64\n"
     ]
    },
    {
     "name": "stderr",
     "output_type": "stream",
     "text": [
      "C:\\Users\\guilhermevmmpg\\AppData\\Local\\Temp\\ipykernel_2400\\4049659897.py:3: SettingWithCopyWarning: \n",
      "A value is trying to be set on a copy of a slice from a DataFrame.\n",
      "Try using .loc[row_indexer,col_indexer] = value instead\n",
      "\n",
      "See the caveats in the documentation: https://pandas.pydata.org/pandas-docs/stable/user_guide/indexing.html#returning-a-view-versus-a-copy\n",
      "  df_ver_rec_validos.loc[:, 'PORCENT_VALIDOS'] = (df_ver_rec_validos['QT_VOTOS'] / total_validos_ver_rec) * 100\n"
     ]
    }
   ],
   "source": [
    "# Atribuir Porcentagem sobre de VOTOS VÁLIDOS para cada NM_VOTAVEL\n",
    "total_validos_ver_rec = df_ver_rec_validos['QT_VOTOS'].sum()\n",
    "df_ver_rec_validos.loc[:, 'PORCENT_VALIDOS'] = (df_ver_rec_validos['QT_VOTOS'] / total_validos_ver_rec) * 100\n",
    "\n",
    "soma_porcent_candidato_ver = df_ver_rec_validos.groupby('NM_VOTAVEL')['PORCENT_VALIDOS'].sum()\n",
    "soma_porcent_candidato_ord_ver = soma_porcent_candidato_ver.sort_values(ascending=False)\n",
    "print(\"Ordem dos Candidatos a Vereador no Recife mais votados: \\n\", soma_porcent_candidato_ord_ver.head(20))"
   ]
  },
  {
   "cell_type": "markdown",
   "metadata": {},
   "source": [
    "Para a eleição de Vereadores adota-se o **sistema proporcional** de votação, também utilizado para eleição de Deputados Estaduais e Federais.\n",
    "\n",
    "Para a eleição para prefeituras, governadores, Senado e Presidência adota-se o **sistema majoritário** em que aquele ou aquela que recebeu mais votos se elege.\n",
    "\n",
    "O sistema proporcional, por outro lado, visa priorizar as legendas (os partidos político).\n",
    "Ou seja, visa priorizar a agregação ideológica em detrimento de uma figura particular.\n",
    "\n",
    "Um exemplo da diferença causada pelo sistema proporcional em relação ao majoritário foi nas eleições de 2012 para vereador no Recife, em que um candito foi o 3º mais votado e ainda assim não foi eleito.\n",
    "\n",
    "Isso ocorre pelo **quociente eleitoral** que é o número de votos válidos para determinado cargo dividido pelo número de vagas a preencher para determinado cargo.\n",
    "\n",
    "Por outro lado, o **quociente partidário** que define o número de vagas que cada partido tem direito, que é o resultado do número de votos válidos para determinado partido ou federação dividido pelo quociente eleitoral."
   ]
  },
  {
   "cell_type": "code",
   "execution_count": 21,
   "metadata": {},
   "outputs": [],
   "source": [
    "# Votos para Vereador por Partido\n"
   ]
  }
 ],
 "metadata": {
  "kernelspec": {
   "display_name": "pe_analytics",
   "language": "python",
   "name": "python3"
  },
  "language_info": {
   "codemirror_mode": {
    "name": "ipython",
    "version": 3
   },
   "file_extension": ".py",
   "mimetype": "text/x-python",
   "name": "python",
   "nbconvert_exporter": "python",
   "pygments_lexer": "ipython3",
   "version": "3.8.19"
  }
 },
 "nbformat": 4,
 "nbformat_minor": 2
}
